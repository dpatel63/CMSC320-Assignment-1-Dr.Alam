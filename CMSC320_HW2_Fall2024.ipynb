{
  "nbformat": 4,
  "nbformat_minor": 0,
  "metadata": {
    "colab": {
      "provenance": [],
      "include_colab_link": true
    },
    "kernelspec": {
      "name": "python3",
      "display_name": "Python 3"
    },
    "language_info": {
      "name": "python"
    }
  },
  "cells": [
    {
      "cell_type": "markdown",
      "metadata": {
        "id": "view-in-github",
        "colab_type": "text"
      },
      "source": [
        "<a href=\"https://colab.research.google.com/github/dpatel63/CMSC320-Assignment-1-Dr.Alam/blob/main/CMSC320_HW2_Fall2024.ipynb\" target=\"_parent\"><img src=\"https://colab.research.google.com/assets/colab-badge.svg\" alt=\"Open In Colab\"/></a>"
      ]
    },
    {
      "cell_type": "markdown",
      "source": [
        "# **HOMEWORK 2: BRAIN CONDITIONING STATS** 📊\n",
        "## **DUE: *OCTOBER 1, 2024 @ 11:59 PM***\n",
        "## **24-HR LATE DUE DATE WITH A 15% PENALTY: *OCTOBER 2, 2024 @ 11:59 PM***\n"
      ],
      "metadata": {
        "id": "QhnhliH6Fdga"
      }
    },
    {
      "cell_type": "markdown",
      "source": [
        "**Objective:**  \n",
        "\n",
        "The aim of this assignment is to deepen students' understanding of statistics and hypothesis testing using Python. By engaging with some theortical questions as well as practical exercises, students will apply statistical methods and perform hypothesis tests, using Python to code and execute these techniques. This approach will help solidify their grasp of statistical principles and their application in Python, bridging theoretical knowledge with practical skills.\n",
        "\n",
        "### **Reminder: Please make sure your code runs before submitting your work. Code sections that do not run will receive 0 credits, no partials will be given. This is VERY important in real project development.**\n",
        "### **DO NOT REMOVE ANY PART OF ANY OF THE QUESTIONS OR YOU LOSE CREDIT**\n",
        "### *No Hardcoding either*  😋📉\n"
      ],
      "metadata": {
        "id": "c5l8cwRR6O7p"
      }
    },
    {
      "cell_type": "markdown",
      "source": [
        "\n",
        "# **Part 1: Statistics Problem Solving**"
      ],
      "metadata": {
        "id": "zMDBwJ_k3sL-"
      }
    },
    {
      "cell_type": "markdown",
      "source": [
        "##Q1) (10 POINTS) Bayes Theorem\n",
        "\n",
        "\n",
        "\n",
        "![bayes](https://media.licdn.com/dms/image/v2/D4E22AQGHMCBJWRJSMw/feedshare-shrink_2048_1536/feedshare-shrink_2048_1536/0/1689744170807?e=1729728000&v=beta&t=98vdDAWzfi-GuX9L0XcASCfT2IQn9_LgQ4QoWdRIltM)\n"
      ],
      "metadata": {
        "id": "hwJSnRGwG2p7"
      }
    },
    {
      "cell_type": "markdown",
      "source": [
        "Suppose some hacker found a dataset on uselessdatasets.com containing information about **three** different types of users on an online platform: \"bloggers\", \"shoppers\", and \"reviewers\".\n",
        "* The data has 10,000 users.\n",
        "* There are 4,500 bloggers, 6,000 shoppers, and 5,500 reviewers.\n",
        "\n",
        "The users could be in multiple categories.\n",
        "\n",
        "* 2,000 of the bloggers are shoppers, 1,800 of the bloggers are reviewers, and 3,000 shoppers are also reviewers.\n",
        "\n",
        "Answer the following questions:\n",
        "\n",
        "**Show your work; a single number will not receive full credit.**"
      ],
      "metadata": {
        "id": "sDMy_c7bGSFq"
      }
    },
    {
      "cell_type": "markdown",
      "source": [
        "**1. (3 POINTS)** If $X$ is a random variable that represents the users that were cross listed into all 3 categories, what is the value of $X$? (Hint: think of a Venn Diagram.)\n",
        "\n",
        "> Write down your answer."
      ],
      "metadata": {
        "id": "tpJaCCIWHb-q"
      }
    },
    {
      "cell_type": "markdown",
      "source": [
        "**2. (3 POINTS)** Calculate the probability that a randomly selected shopper is also a reviewer. (Hint: Use Bayes Theorem)\n",
        "\n",
        "> Write down your answer."
      ],
      "metadata": {
        "id": "iSI0rgMFHeqV"
      }
    },
    {
      "cell_type": "markdown",
      "source": [
        "**3. (4 POINTS)** Calculate the probability that a random user is in exactly two categories but not all three.\n",
        "\n",
        "> Write down your answer."
      ],
      "metadata": {
        "id": "EdwmsNa_Hexi"
      }
    },
    {
      "cell_type": "markdown",
      "source": [
        "##Q2) (6 POINTS) Expected Values\n"
      ],
      "metadata": {
        "id": "tY38nVLZIL0O"
      }
    },
    {
      "cell_type": "markdown",
      "source": [
        "Let $T$ be the set of all sequences of two rolls of a dice. Let $S$ be the set of all sequences of three rolls of a dice. Let $X_n$ be the sum of the number of dots on $n$ dice rolls.\n",
        "\n",
        "Answer the following question:\n"
      ],
      "metadata": {
        "id": "S8XTaX1Lcg1T"
      }
    },
    {
      "cell_type": "markdown",
      "source": [
        "**1. (3 POINTS)** What is $\\mathbb{E}[X_2]$?\n",
        "\n",
        "> Write down your answer."
      ],
      "metadata": {
        "id": "MJGNtK5eck07"
      }
    },
    {
      "cell_type": "markdown",
      "source": [
        "**2. (3 POINTS)** What is $\\mathbb{E}[X_3]$?\n",
        "\n",
        "> Write down your answer."
      ],
      "metadata": {
        "id": "P2GzKvNAcuKD"
      }
    },
    {
      "cell_type": "markdown",
      "source": [
        "##Q3) (6 POINTS) Probability distribution"
      ],
      "metadata": {
        "id": "_lrY31ZOc6cV"
      }
    },
    {
      "cell_type": "markdown",
      "source": [
        "Let  $X$  be a continuous random variable that follows a normal distribution with mean  $\\mu = 10$  and standard deviation  $\\sigma = 2$.\n",
        "\n",
        "Answer the following question:"
      ],
      "metadata": {
        "id": "5i8SGbTPdAB9"
      }
    },
    {
      "cell_type": "markdown",
      "source": [
        "**1. (3 POINTS)** What is the probability that $X$ takes a value between 8 and 12?\n",
        "\n",
        "> Write down your answer."
      ],
      "metadata": {
        "id": "iBWOOR8RdMRQ"
      }
    },
    {
      "cell_type": "markdown",
      "source": [
        "**2. (3 POINTS)** What is the probability that $X$ takes a value greater than 14?\n",
        "\n",
        "> Write down your answer."
      ],
      "metadata": {
        "id": "uk5gSI7Yhbgi"
      }
    },
    {
      "cell_type": "markdown",
      "source": [
        "# **Part 2: Python Warmups**\n",
        "\n",
        "In this Part 2, 2e're now going to start working on some Python coding exercises. We will begin with the statistics part and then move on to hypothesis testing later.\n"
      ],
      "metadata": {
        "id": "qd62j-z1FlKj"
      }
    },
    {
      "cell_type": "markdown",
      "source": [
        "##Q1) (10 POINTS) Bernoulli Trials\n",
        "\n",
        "Consider a sequence of $n$ Bernoulli trials with success probability $p$ per trial. A string of consecutive successes is known as a *streak*.\n",
        "\n",
        "> **Task to do:** Write a function **(\"count_streaks\")** that returns a `collections.Counter` that maps the length of a streak $k$ to the number of times it is observed in an input sequence `xs`. For example, if `xs = [0, 1, 0, 1, 1, 0, 1, 1, 1, 0, 1, 1, 1, 0, 0, 1]`, the output would be `Counter({1: 2, 2: 1, 3: 2})`. We have imported `Counter` from the Python `collections` library for you in the code block below.\n"
      ],
      "metadata": {
        "id": "LtrQ-Vrdczic"
      }
    },
    {
      "cell_type": "code",
      "source": [
        "from collections import Counter\n",
        "\n",
        "def count_streaks(xs):\n",
        "    \"\"\"Fill here with your algorithm.\"\"\"\n",
        "    return Counter(ys)"
      ],
      "metadata": {
        "id": "EjCkESEmc9Cz"
      },
      "execution_count": null,
      "outputs": []
    },
    {
      "cell_type": "code",
      "source": [
        "# Use this cell to test your answer. MAKE SURE YOUR RESULTS ARE SHOWN BELOW AFTER RUNNING THIS BOX\n",
        "\n",
        "import numpy as np\n",
        "\n",
        "\n",
        "count_streaks([0, 1, 0, 1, 1, 0, 1, 1, 1, 0, 1, 1, 1, 0, 0, 1])\n",
        "np.random.seed(0)\n",
        "count_runs(np.random.randint(0,2,1000000))"
      ],
      "metadata": {
        "id": "J2w_2uB7dQin"
      },
      "execution_count": null,
      "outputs": []
    },
    {
      "cell_type": "markdown",
      "source": [
        "##Q2) (10 POINTS) Distribution and Visualization\n",
        "\n",
        "The goal of solving this problem is to become familiar with using **built-in Python libraries** to create various distributions. Plotting serves as an initial step toward data visualization."
      ],
      "metadata": {
        "id": "soG82SCihwDT"
      }
    },
    {
      "cell_type": "markdown",
      "source": [
        "**1. (3 POINTS)** Create a normally distributed random variable with mean $\\mu = 0$, standard deviation $\\sigma = 5$ and sample size $n=1000$.\n",
        "\n",
        "**TASK:** Plot the histogram. Add labels and titles and other details as desired to make your plot understandable. You must use the packages `numpy` and `matplotlib`.\n",
        "\n",
        "**There will be no partial credit granted for this question. Any hardcoded results will receive a 0.**\n",
        "\n",
        "*Check out https://numpy.org/doc/stable/reference/random/generated/numpy.random.normal.html for reference on both numpy and matplotlib*"
      ],
      "metadata": {
        "id": "Yh5maPG3iKSZ"
      }
    },
    {
      "cell_type": "code",
      "source": [
        "import numpy as np\n",
        "import matplotlib.pyplot as plt\n",
        "\n",
        "# YOUR CODE HERE"
      ],
      "metadata": {
        "id": "GGE_YQ2eiJPh"
      },
      "execution_count": null,
      "outputs": []
    },
    {
      "cell_type": "markdown",
      "source": [
        "**2. (7 POINTS)** Imagine you're on a quest to uncover the secrets of the **Central Limit Theorem (CLT)** using a **Poisson**  distribution. In this exploration, you will investigate how the CLT applies to a population where events follow a Poisson distribution.\n",
        "\n",
        "\n",
        "Suppose you have a population that follows a Poisson distribution with a rate parameter (or mean)  $\\lambda = 3$ . You will draw multiple samples from this population and calculate the mean of each sample.\n",
        "\n",
        "Write a Python function **(\"poisson_clt_simulator\")** that simulates this process. The input of the function should be the sample size, the number of samples, and lambda. The function should:\n",
        "1. Generate a population with a Poisson distribution.\n",
        "2. Draw multiple samples and calculate the mean of each sample.\n",
        "3. Return these means as an iterable.\n",
        "\n",
        "**There will be no partial credit granted for this question. Any hardcoded results will receive a 0.**\n",
        "\n",
        "*Check out https://numpy.org/doc/stable/reference/random/generated/numpy.random.poisson.html for reference on poisson*"
      ],
      "metadata": {
        "id": "9WZvmUTZmx11"
      }
    },
    {
      "cell_type": "code",
      "source": [
        "import numpy as np\n",
        "\n",
        "def poisson_clt_simulator(sample_size, num_samples, lambda_):\n",
        "    sample_means = []\n",
        "    # complete the function here utilizing the numpy function of poission\n",
        "    # the goal is to make poission samples and put them in the list to return\n",
        "    for _ in range(num_samples):\n",
        "        sample =\n",
        "        sample_means.append() # think carefully what you are adding to the list here, refer to the variable name\n",
        "    return sample_means"
      ],
      "metadata": {
        "id": "Q7HqSg1AnHy4"
      },
      "execution_count": null,
      "outputs": []
    },
    {
      "cell_type": "markdown",
      "source": [
        "  Now, use the same function **(\"poisson_clt_simulator\")** to generate **1,000** sample means with sample size **50**.\n",
        "  \n",
        "  **TASK:** Plot the distribution of these sample means to visualize the Central Limit Theorem. Add labels and titles and other details as desired to make your plot understandable."
      ],
      "metadata": {
        "id": "hcIu1vJCqUTj"
      }
    },
    {
      "cell_type": "code",
      "source": [
        "import matplotlib.pyplot as plt\n",
        "\n",
        "# Parameters\n",
        "\n",
        "sample_size =\n",
        "num_samples =\n",
        "lambda_ =\n",
        "\n",
        "# Simulate and get sample means, maybe the function above helps?\n",
        "\n",
        "sample_means =\n",
        "\n",
        "# Plot the distribution of sample means\n",
        "\n",
        "plt.hist()\n",
        "\n",
        "# Add titles, labels, etc.\n",
        "\n",
        "# Show plot\n",
        "\n",
        "plt.show()"
      ],
      "metadata": {
        "id": "jWy2qFXtrfSm"
      },
      "execution_count": null,
      "outputs": []
    },
    {
      "cell_type": "markdown",
      "source": [
        "# **Part 3: Hypothesis Testing**\n",
        "\n",
        "You have just completed the statistics portion of our exploration. Now, let’s shift our focus to **hypothesis testing**.\n",
        "\n",
        "Understanding hypothesis testing is crucial because it allows us to make data-driven decisions and validate our assumptions by testing claims or theories against observed data.\n",
        "\n"
      ],
      "metadata": {
        "id": "E8O0YGnV4Cbp"
      }
    },
    {
      "cell_type": "markdown",
      "source": [
        "##Q1) (14 POINTS) Hypothesis Tests and P_value"
      ],
      "metadata": {
        "id": "lr1gnMPH4K95"
      }
    },
    {
      "cell_type": "markdown",
      "source": [
        "**TASK:** For the next 5 problems, please describe when you would use each hypothesis test (Please provide written brief explanations for each scenario):\n"
      ],
      "metadata": {
        "id": "fp9tnOacNuMX"
      }
    },
    {
      "cell_type": "markdown",
      "source": [
        "\n",
        "\n",
        "*   Chi-Squared Test\n",
        "*   Z test\n",
        "*   T test\n",
        "*   Mann-Whitney U Test\n",
        "*   Anova\n",
        "\n",
        "\n"
      ],
      "metadata": {
        "id": "gMYJ8tll4cTM"
      }
    },
    {
      "cell_type": "markdown",
      "source": [
        "**1.1  (2 POINTS)** Chi-Squared Test\n",
        "\n",
        "> Write down your answer."
      ],
      "metadata": {
        "id": "Pkn-uG4cETC9"
      }
    },
    {
      "cell_type": "markdown",
      "source": [
        "**1.2  (2 POINTS)** Z-Test\n",
        "\n",
        "\n",
        "> Write down your answer.\n",
        "\n"
      ],
      "metadata": {
        "id": "Lxfrp1xuEYzi"
      }
    },
    {
      "cell_type": "markdown",
      "source": [
        "**1.3  (2 POINTS)** T-Test\n",
        "\n",
        "\n",
        "> Write down your answer.\n",
        "\n"
      ],
      "metadata": {
        "id": "NbsWX4fxEZBg"
      }
    },
    {
      "cell_type": "markdown",
      "source": [
        "**1.4  (2 POINTS)** Man-Whitney U Test\n",
        "\n",
        "\n",
        "> Write down your answer.\n",
        "\n"
      ],
      "metadata": {
        "id": "YegV9lSFEZO6"
      }
    },
    {
      "cell_type": "markdown",
      "source": [
        "**1.5  (2 POINTS)** ANOVA Test\n",
        "\n",
        "\n",
        "> Write down your answer.\n",
        "\n"
      ],
      "metadata": {
        "id": "mpPZpmtMEZfS"
      }
    },
    {
      "cell_type": "markdown",
      "source": [
        "**1.6 (4 POINTS) :** Explain the statistical interpretation of a p-value. What is a p-value? What does it mean? Be sure to provide a thorough explanation that goes beyond just \"rejecting or failing to reject the null hypothesis.\"\n",
        "\n"
      ],
      "metadata": {
        "id": "jdYe6uWWKPtd"
      }
    },
    {
      "cell_type": "markdown",
      "source": [
        "> Write down your answer."
      ],
      "metadata": {
        "id": "9zhdjJyjK1D7"
      }
    },
    {
      "cell_type": "markdown",
      "source": [
        "##Q2)  (2 POINTS) Create a DataFrame and Display\n",
        "\n",
        "\n",
        "Moving forward, we will focus on coding hypothesis testing. A dataset named **\"theft_data_v2.csv** is provided for this assignment. We will use this dataset to apply and explore various hypothesis tests."
      ],
      "metadata": {
        "id": "va2vA-in5dWy"
      }
    },
    {
      "cell_type": "code",
      "source": [
        "# Import the Library\n",
        "import pandas as pd\n",
        "import matplotlib.pyplot as plt\n"
      ],
      "metadata": {
        "id": "Ijr5bfGL5_l1"
      },
      "execution_count": null,
      "outputs": []
    },
    {
      "cell_type": "markdown",
      "source": [
        "### We are creating a DataFrame `df`.\n",
        "\n",
        "Please load the dataset `theft_data_v2.csv` into this DataFrame and display it below."
      ],
      "metadata": {
        "id": "Pi7f_akf6FJb"
      }
    },
    {
      "cell_type": "code",
      "source": [
        "# YOUR CODE HERE"
      ],
      "metadata": {
        "id": "XtB3BYv86Ma8"
      },
      "execution_count": null,
      "outputs": []
    },
    {
      "cell_type": "markdown",
      "source": [
        "**TASK 2.1 (2 POINTS):** Notice how all the columns are mushed together above?\n",
        "\n",
        "**TASK**: Find a way to separate them. Make changes to the **above code** so that the data is loaded properly.\n",
        "\n",
        "Hint: https://www.analyticsvidhya.com/blog/2021/04/delimiters-in-pandas-read_csv-function/\n"
      ],
      "metadata": {
        "id": "h7ECEjyu6zS7"
      }
    },
    {
      "cell_type": "markdown",
      "source": [
        "#Q3)  (6 POINTS) Hypothesis Testing"
      ],
      "metadata": {
        "id": "pzwSpXB-7fKA"
      }
    },
    {
      "cell_type": "markdown",
      "source": [
        "Try to find relationships in this dataset through hypothesis testing. For each hypothesis test:\n",
        "\n",
        "- First chose a null hypothesis, or a statement that there is no effect between different variables, that serves as a default assumption.\n",
        "\n",
        "- Then chose an alternative hypothesis, or a statement that suggests that there is a correlation between different variables.\n",
        "\n",
        "For the questions below, assume $\\alpha = 0.05$."
      ],
      "metadata": {
        "id": "h27RjOEp7jbD"
      }
    },
    {
      "cell_type": "markdown",
      "source": [
        "## First Hypothesis"
      ],
      "metadata": {
        "id": "LkghYiRE8os2"
      }
    },
    {
      "cell_type": "markdown",
      "source": [
        "- HO: The category of the item does not have an effect on the likelihood of the item being stolen.\n",
        "\n",
        "- HA: The category of the item does have an effect on the likelihood of the item being stolen."
      ],
      "metadata": {
        "id": "tTIg9o018tDT"
      }
    },
    {
      "cell_type": "markdown",
      "source": [
        "Our plan is to apply a chi-squared test. You may find it helpful to consult the `scipy.stats` library's documentation:\n",
        "https://docs.scipy.org/doc/scipy/reference/stats.html"
      ],
      "metadata": {
        "id": "7gGUOQ0k86wr"
      }
    },
    {
      "cell_type": "markdown",
      "source": [
        "**TASK 3.1 (2 POINTS)**: Create a contingency table and display it."
      ],
      "metadata": {
        "id": "h_oSvey7H2Bu"
      }
    },
    {
      "cell_type": "code",
      "source": [
        "# YOUR CODE HERE"
      ],
      "metadata": {
        "id": "rC7T9KZu9F5_"
      },
      "execution_count": null,
      "outputs": []
    },
    {
      "cell_type": "markdown",
      "source": [
        "**TASK 3.2 (2 POINTS)**: Why would we consider using a chi-squared test specifically (as opposed to some other hypothesis test)?"
      ],
      "metadata": {
        "id": "Zn3EkECR9ego"
      }
    },
    {
      "cell_type": "markdown",
      "source": [
        "> Write down your answer."
      ],
      "metadata": {
        "id": "yPVqC4sk9sFH"
      }
    },
    {
      "cell_type": "markdown",
      "source": [
        "**TASK 3.3 (2 POINTS)**: Create a plot showing the relationship between the item categories and the counts of it being stolen."
      ],
      "metadata": {
        "id": "wlfByGrRIobE"
      }
    },
    {
      "cell_type": "code",
      "source": [
        "# YOUR CODE HERE"
      ],
      "metadata": {
        "id": "cwC0m4YTIxcz"
      },
      "execution_count": null,
      "outputs": []
    },
    {
      "cell_type": "markdown",
      "source": [
        "#Q4) (5 POINTS) Conduct the chi-squared test"
      ],
      "metadata": {
        "id": "8vo_2ozW9sfh"
      }
    },
    {
      "cell_type": "markdown",
      "source": [
        "**TASK: 4.1 (2 POINTS):** Display the p-value of applying the chi-squared test using the `chi2_contingency()` function."
      ],
      "metadata": {
        "id": "wMjNQ2ZlJqtO"
      }
    },
    {
      "cell_type": "code",
      "source": [
        "# YOUR CODE HERE"
      ],
      "metadata": {
        "id": "kogfjOyy98Nt"
      },
      "execution_count": null,
      "outputs": []
    },
    {
      "cell_type": "markdown",
      "source": [
        "**TASK: 4.2  (3 POINTS)**: Based on the p-value, determine whether to reject or fail to reject the null hypothesis. Explain your answer."
      ],
      "metadata": {
        "id": "WmGcsPSo9_cI"
      }
    },
    {
      "cell_type": "markdown",
      "source": [
        "\n",
        "> Write down your answer.\n",
        "\n"
      ],
      "metadata": {
        "id": "t_H7-OZk-ENC"
      }
    },
    {
      "cell_type": "markdown",
      "source": [
        "#Q5) (3 POINTS) A New Hypothesis\n",
        "\n",
        "\n"
      ],
      "metadata": {
        "id": "NTCV91Ph-t2_"
      }
    },
    {
      "cell_type": "markdown",
      "source": [
        "Now create a new hypothesis test for \"whether the visibility of an item impacts its cost.\" (Assume $\\alpha=0.05$)."
      ],
      "metadata": {
        "id": "_dKrQS0t_rDG"
      }
    },
    {
      "cell_type": "markdown",
      "source": [
        "**TASK 5.1  (3 POINTS)**: Write down your null and alternative hypotheses:"
      ],
      "metadata": {
        "id": "LSqKhD6AKkjF"
      }
    },
    {
      "cell_type": "markdown",
      "source": [
        "*H0:*\n",
        "\n",
        "*HA:*"
      ],
      "metadata": {
        "id": "Hip3s4r6AkaS"
      }
    },
    {
      "cell_type": "markdown",
      "source": [
        "#Q6) (7 POINTS) Apply ANOVA Test\n",
        "\n",
        "Take a look at this [https://docs.scipy.org/doc/scipy/reference/generated/scipy.stats.f_oneway.html](linik)\n",
        "\n"
      ],
      "metadata": {
        "id": "wOdL1CDNAtbo"
      }
    },
    {
      "cell_type": "markdown",
      "source": [
        "**TASK 6.0**: Split the data into 3 different dataframes based on visibility."
      ],
      "metadata": {
        "id": "64QikUsIA1yo"
      }
    },
    {
      "cell_type": "code",
      "source": [
        "import pandas as pd\n",
        "import scipy.stats as stats\n",
        "\n",
        "\n",
        "# YOUR CODE HERE"
      ],
      "metadata": {
        "id": "1hL6BDyl09b8"
      },
      "execution_count": null,
      "outputs": []
    },
    {
      "cell_type": "markdown",
      "source": [
        "**TASK 6.1 (2 POINTS)**: Display the p-value of applying the ANOVA test."
      ],
      "metadata": {
        "id": "ETcNscGkLBfG"
      }
    },
    {
      "cell_type": "code",
      "source": [
        "# YOUR CODE HERE"
      ],
      "metadata": {
        "id": "feHtd8-sBPI-"
      },
      "execution_count": null,
      "outputs": []
    },
    {
      "cell_type": "markdown",
      "source": [
        "**TASK 6.2 \\(2 POINTS)**: Create a graph(s) using `matplotlib` to show the relationship between an item's cost and its visibility.\n",
        "\n",
        "**Hint: Check out how to plot categorical data against numerical data. Among the two variables, which one is numerical and which one is categorical?**\n"
      ],
      "metadata": {
        "id": "QXlnvMzQJGfB"
      }
    },
    {
      "cell_type": "code",
      "source": [
        "# YOUR CODE HERE"
      ],
      "metadata": {
        "id": "-_PV4-8lJgOj"
      },
      "execution_count": null,
      "outputs": []
    },
    {
      "cell_type": "markdown",
      "source": [
        "**TASK 6.3 (3 POINTS)**: Based on the p-value, determine whether to reject or fail to reject the null hypothesis. Explain your answer."
      ],
      "metadata": {
        "id": "L5u8z_2ABUN0"
      }
    },
    {
      "cell_type": "markdown",
      "source": [
        "\n",
        "\n",
        "> Answer here\n",
        "\n"
      ],
      "metadata": {
        "id": "Zui7Lq-rLKsz"
      }
    },
    {
      "cell_type": "markdown",
      "source": [
        "#*Q7)* (2 POINTS) Post Hoc Tests"
      ],
      "metadata": {
        "id": "UGMV-etmBFhN"
      }
    },
    {
      "cell_type": "markdown",
      "source": [
        "**TASK 7.1 (2 POINTS)**: We applied ANOVA test in **Q6**. Based on this, explain whether post-hoc tests are needed in this scenario and provide reasoning for your answer."
      ],
      "metadata": {
        "id": "XC1mNMBdBHak"
      }
    },
    {
      "cell_type": "markdown",
      "source": [
        "\n",
        "\n",
        "> Answer Here\n",
        "\n"
      ],
      "metadata": {
        "id": "NBN4LMWnCrtT"
      }
    },
    {
      "cell_type": "markdown",
      "source": [
        "#*Q8)* (11 POINTS) CONDUCT YOUR OWN HYPOTHESIS TEST\n",
        "\n",
        "Time to be more creative!\n",
        "\n",
        "![pvalue](https://i.pinimg.com/564x/60/b7/91/60b791a93d8a12d14bd5fa4b3e45ebc6.jpg)"
      ],
      "metadata": {
        "id": "B-He18NHCuRD"
      }
    },
    {
      "cell_type": "markdown",
      "source": [
        "Conduct your own hypothesis test on the given data **(theft_data_v2.csv)** in `df`. You can choose any of the hypothesis tests given below (repeated from **Q1**):\n",
        "*   Chi-Squared Test\n",
        "*   Z test\n",
        "*   T test\n",
        "*   Mann-Whitney U Test\n",
        "*   ANOVA"
      ],
      "metadata": {
        "id": "QF3KN0e9Cyvw"
      }
    },
    {
      "cell_type": "markdown",
      "source": [
        "**TASK 8.1 (3 POINTS):** Write down the null and alternative hypotheses below."
      ],
      "metadata": {
        "id": "J_GAwmC9O0iz"
      }
    },
    {
      "cell_type": "markdown",
      "source": [
        "*H0:*\n",
        "\n",
        "*HA:*\n"
      ],
      "metadata": {
        "id": "c7PhVJsBDCxe"
      }
    },
    {
      "cell_type": "markdown",
      "source": [
        "**TASK 8.2 (2 POINTS)**: Create a plot using `matplotlib` that visualizes your hypothesis."
      ],
      "metadata": {
        "id": "lAcqw9KxJoWy"
      }
    },
    {
      "cell_type": "code",
      "source": [
        "# YOUR CODE HERE"
      ],
      "metadata": {
        "id": "zb_4PS5cDS99"
      },
      "execution_count": null,
      "outputs": []
    },
    {
      "cell_type": "markdown",
      "source": [
        "**TASK 8.3 (3 POINTS):** Find the p-value of the hypothesis test."
      ],
      "metadata": {
        "id": "K1wQOvGhDPbF"
      }
    },
    {
      "cell_type": "code",
      "source": [
        "# YOUR CODE HERE"
      ],
      "metadata": {
        "id": "fYyedootJwBw"
      },
      "execution_count": null,
      "outputs": []
    },
    {
      "cell_type": "markdown",
      "source": [
        "**TASK 8.4 (3 POINTS)**: Based on the p-value, determine whether to reject or fail to reject the null hypothesis. Explain your answer."
      ],
      "metadata": {
        "id": "OHBq3S-MPOPd"
      }
    },
    {
      "cell_type": "markdown",
      "source": [
        "\n",
        "\n",
        "> Answer Here\n",
        "\n"
      ],
      "metadata": {
        "id": "f1ppsAU4PXEm"
      }
    },
    {
      "cell_type": "markdown",
      "source": [
        "# THE END! #\n",
        "\n",
        "![normal](https://miro.medium.com/v2/resize:fit:1204/format:webp/1*sVPccqtQYtrQwcP2cxLgdQ.jpeg)\n",
        "\n"
      ],
      "metadata": {
        "id": "Q7S1ALMqvvRp"
      }
    }
  ]
}